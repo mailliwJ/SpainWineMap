{
 "cells": [
  {
   "cell_type": "code",
   "execution_count": null,
   "metadata": {},
   "outputs": [],
   "source": [
    "canarias = ['D.O.Gran Canaria','D.O.La Gomera','D.O.El Hierro','D.O.Valle de Güimar','D.O.Valle de la Orotava','D.O.Ycoden-Daute-Isora','D.O.Abona','']\n",
    "green = ['galicia','asturias','cantabria','pais basco']\n",
    "north_central = ['rioja','navarra','D.O.Calatayud','D.O.Campo de Borja','D.O.Cariñena','']\n",
    "central = ['D.O.Cigales','D.O.Arlanza','D.O.Arribes','D.O.Bierzo','']\n",
    "Catalunya = ['D.O.Conca de Barberá','D.O.Alella','D.O.Costers del Segre','D.O.Penedés','']\n",
    "majorca = ['D.O.Pla i Llevant']\n",
    "levante = ['D.O.Valencia','D.O.Alicante','D.O.Jumilla','D.O.Bullas','D.O.Yecla','D.O.Utiel-Requena']\n",
    "meseta = ['D.O.Vinos de Madrid','castilla la mancha']\n",
    "vcs = ['V.C.Cangas','V.C.Granada','V.C.Lebrija','V.C.Sierra de Salamanca','V.C.Valtiendas','V.C.Valles de Benavente','']\n",
    "vps = ['V.P.Campo de la Guardia','']\n",
    "andalucia = ['D.O.Condado de Huelva','V.P.Casa del Blanco','V.P.Pago Florentino','V.P.Pago de Arínzano','V.P.Pago de Otazu','V.P.Pago Aylés']\n",
    "southwest = [extrem]\n",
    "cava = ['D.O.Cava']"
   ]
  }
 ],
 "metadata": {
  "language_info": {
   "name": "python"
  }
 },
 "nbformat": 4,
 "nbformat_minor": 2
}
